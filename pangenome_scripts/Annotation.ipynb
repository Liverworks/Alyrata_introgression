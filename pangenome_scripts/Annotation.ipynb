{
 "cells": [
  {
   "cell_type": "code",
   "execution_count": 1,
   "id": "2ef1a597",
   "metadata": {},
   "outputs": [],
   "source": [
    "import pandas as pd"
   ]
  },
  {
   "cell_type": "code",
   "execution_count": 29,
   "id": "3638fb0e",
   "metadata": {},
   "outputs": [],
   "source": [
    "i = 0\n",
    "with open('tesorter/overlaps/ass_list', 'r') as ass_list:\n",
    "    for ass in ass_list.readlines():\n",
    "        ass = ass.split(\" \")\n",
    "        name = \"../trash/busco_\" + ass[1] + \"/short_summary.specific.brassicales_odb10.busco_\" + ass[1] + \".json\"\n",
    "        with open(name) as f:\n",
    "            d = json.load(f)\n",
    "            busco_stats.acc.loc[i] = ass[1]\n",
    "            busco_stats['Complete'].loc[i] = d['results']['Complete']\n",
    "            busco_stats['Single copy'].loc[i] = d['results']['Single copy']\n",
    "            busco_stats['Multi copy'].loc[i] = d['results']['Multi copy']\n",
    "            busco_stats['Fragmented'].loc[i] = d['results']['Fragmented']\n",
    "            busco_stats['Missing'].loc[i] = d['results']['Missing']\n",
    "            busco_stats['Number of contigs'].loc[i] = d['results']['Number of contigs']\n",
    "            busco_stats['Total length'].loc[i] = d['results']['Total length']\n",
    "            busco_stats['Percent gaps'].loc[i] = d['results']['Percent gaps']\n",
    "            busco_stats['Scaffold N50'].loc[i] = d['results']['Scaffold N50']\n",
    "            busco_stats['Contigs N50'].loc[i] = d['results']['Contigs N50']\n",
    "            i += 1"
   ]
  },
  {
   "cell_type": "code",
   "execution_count": 10,
   "id": "2124585f",
   "metadata": {},
   "outputs": [],
   "source": [
    "with open(name, 'r') as busco:\n",
    "         busco = busco.readlines()   "
   ]
  },
  {
   "cell_type": "code",
   "execution_count": 31,
   "id": "ca15431c",
   "metadata": {},
   "outputs": [],
   "source": [
    "busco_stats.to_csv('busco_stats.tsv', sep='\\t', index=False)"
   ]
  },
  {
   "cell_type": "code",
   "execution_count": 25,
   "id": "7e28c9e9",
   "metadata": {},
   "outputs": [],
   "source": [
    "busco_stats = pd.DataFrame(columns = [\"acc\", \"Complete\", \"Single copy\", 'Multi copy', 'Fragmented', 'Missing', 'Number of contigs', 'Total length', 'Percent gaps', 'Scaffold N50', 'Contigs N50'], index=[0,1,2,3,4,5,6,7,8,9,10,11,12,13,14,15,16,17,18,19,20])\n"
   ]
  },
  {
   "cell_type": "code",
   "execution_count": 13,
   "id": "d6e33e3a",
   "metadata": {},
   "outputs": [
    {
     "name": "stdout",
     "output_type": "stream",
     "text": [
      "{'parameters': {'out_path': '/netscratch/dep_mercier/grp_novikova/A.Lyrata/anna_g/mabs_assemblies/trash', 'cpu': '1', 'force': 'True', 'restart': 'False', 'quiet': 'False', 'download_path': '/netscratch/dep_mercier/grp_novikova/A.Lyrata/anna_g/mabs_assemblies/trash/busco_downloads', 'datasets_version': 'odb10', 'offline': 'False', 'download_base_url': 'https://busco-data.ezlab.org/v5/data/', 'auto-lineage': 'False', 'auto-lineage-prok': 'False', 'auto-lineage-euk': 'False', 'update-data': 'False', 'use_augustus': 'False', 'batch_mode': 'False', 'tar': 'False', 'in': '/netscratch/dep_mercier/grp_novikova/A.Lyrata/anna_g/mabs_assemblies/v2_assemblies/WS1_v2.fa', 'out': 'busco_WS1_v2', 'mode': 'euk_genome_met', 'lineage_dataset': '/netscratch/dep_mercier/grp_novikova/A.Lyrata/anna_g/mabs_assemblies/trash/busco_downloads/lineages/brassicales_odb10', 'main_out': '/netscratch/dep_mercier/grp_novikova/A.Lyrata/anna_g/mabs_assemblies/trash/busco_WS1_v2', 'lineage_results_dir': 'run_brassicales_odb10', 'domain': 'eukaryota', 'max_intron': '90000', 'max_seq_len': '120000', 'orthodb_version': '10.1', 'metaeuk_parameters': '', 'metaeuk_rerun_parameters': '', 'contig_break': '10', 'scaffold_composition': 'False', 'gene_predictor': 'metaeuk'}, 'lineage_dataset': {'name': 'brassicales_odb10', 'creation_date': '2024-01-08', 'number_of_buscos': '4596', 'number_of_species': '10'}, 'versions': {'hmmsearch': 3.1, 'bbtools': '37.66', 'metaeuk': '6.a5d39d9', 'busco': '5.4.0'}, 'results': {'one_line_summary': 'C:97.6%[S:95.6%,D:2.0%],F:0.3%,M:2.1%,n:4596', 'Complete': 97.6, 'Single copy': 95.6, 'Multi copy': 2.0, 'Fragmented': 0.3, 'Missing': 2.1, 'n_markers': 4596, 'domain': 'eukaryota', 'Number of scaffolds': '8', 'Number of contigs': '19', 'Total length': '203998102', 'Percent gaps': '0.001%', 'Scaffold N50': '25474938', 'Contigs N50': '12467608'}}\n"
     ]
    }
   ],
   "source": [
    "import json\n",
    "\n",
    "with open(name) as f:\n",
    "    d = json.load(f)\n",
    "    print(d)"
   ]
  },
  {
   "cell_type": "code",
   "execution_count": 16,
   "id": "d4203d4c",
   "metadata": {},
   "outputs": [
    {
     "data": {
      "text/plain": [
       "{'one_line_summary': 'C:97.6%[S:95.6%,D:2.0%],F:0.3%,M:2.1%,n:4596',\n",
       " 'Complete': 97.6,\n",
       " 'Single copy': 95.6,\n",
       " 'Multi copy': 2.0,\n",
       " 'Fragmented': 0.3,\n",
       " 'Missing': 2.1,\n",
       " 'n_markers': 4596,\n",
       " 'domain': 'eukaryota',\n",
       " 'Number of scaffolds': '8',\n",
       " 'Number of contigs': '19',\n",
       " 'Total length': '203998102',\n",
       " 'Percent gaps': '0.001%',\n",
       " 'Scaffold N50': '25474938',\n",
       " 'Contigs N50': '12467608'}"
      ]
     },
     "execution_count": 16,
     "metadata": {},
     "output_type": "execute_result"
    }
   ],
   "source": [
    "d['results']"
   ]
  },
  {
   "cell_type": "code",
   "execution_count": 2,
   "id": "9f8653f6",
   "metadata": {},
   "outputs": [
    {
     "data": {
      "text/html": [
       "<div>\n",
       "<style scoped>\n",
       "    .dataframe tbody tr th:only-of-type {\n",
       "        vertical-align: middle;\n",
       "    }\n",
       "\n",
       "    .dataframe tbody tr th {\n",
       "        vertical-align: top;\n",
       "    }\n",
       "\n",
       "    .dataframe thead th {\n",
       "        text-align: right;\n",
       "    }\n",
       "</style>\n",
       "<table border=\"1\" class=\"dataframe\">\n",
       "  <thead>\n",
       "    <tr style=\"text-align: right;\">\n",
       "      <th></th>\n",
       "      <th>acc</th>\n",
       "      <th>Complete</th>\n",
       "      <th>Single copy</th>\n",
       "      <th>Multi copy</th>\n",
       "      <th>Fragmented</th>\n",
       "      <th>Missing</th>\n",
       "      <th>Number of contigs</th>\n",
       "      <th>Total length</th>\n",
       "      <th>Percent gaps</th>\n",
       "      <th>Scaffold N50</th>\n",
       "      <th>Contigs N50</th>\n",
       "    </tr>\n",
       "  </thead>\n",
       "  <tbody>\n",
       "    <tr>\n",
       "      <th>0</th>\n",
       "      <td>NT1_v2</td>\n",
       "      <td>99.0</td>\n",
       "      <td>97.1</td>\n",
       "      <td>1.9</td>\n",
       "      <td>0.2</td>\n",
       "      <td>0.8</td>\n",
       "      <td>43</td>\n",
       "      <td>198770000</td>\n",
       "      <td>0.002%</td>\n",
       "      <td>25754118</td>\n",
       "      <td>6628831</td>\n",
       "    </tr>\n",
       "    <tr>\n",
       "      <th>1</th>\n",
       "      <td>AL08_v2</td>\n",
       "      <td>98.9</td>\n",
       "      <td>97.1</td>\n",
       "      <td>1.8</td>\n",
       "      <td>0.1</td>\n",
       "      <td>1.0</td>\n",
       "      <td>21</td>\n",
       "      <td>188201232</td>\n",
       "      <td>0.001%</td>\n",
       "      <td>23770588</td>\n",
       "      <td>22641969</td>\n",
       "    </tr>\n",
       "    <tr>\n",
       "      <th>2</th>\n",
       "      <td>AL27_v1</td>\n",
       "      <td>99.1</td>\n",
       "      <td>97.3</td>\n",
       "      <td>1.8</td>\n",
       "      <td>0.3</td>\n",
       "      <td>0.6</td>\n",
       "      <td>8</td>\n",
       "      <td>189131157</td>\n",
       "      <td>0.000%</td>\n",
       "      <td>23938082</td>\n",
       "      <td>23938082</td>\n",
       "    </tr>\n",
       "    <tr>\n",
       "      <th>3</th>\n",
       "      <td>BOR_v1</td>\n",
       "      <td>99.1</td>\n",
       "      <td>97.1</td>\n",
       "      <td>2.0</td>\n",
       "      <td>0.2</td>\n",
       "      <td>0.7</td>\n",
       "      <td>10</td>\n",
       "      <td>191474027</td>\n",
       "      <td>0.000%</td>\n",
       "      <td>24760478</td>\n",
       "      <td>24760478</td>\n",
       "    </tr>\n",
       "    <tr>\n",
       "      <th>4</th>\n",
       "      <td>BAM12_v2</td>\n",
       "      <td>98.8</td>\n",
       "      <td>96.6</td>\n",
       "      <td>2.2</td>\n",
       "      <td>0.2</td>\n",
       "      <td>1.0</td>\n",
       "      <td>34</td>\n",
       "      <td>208798158</td>\n",
       "      <td>0.001%</td>\n",
       "      <td>26142791</td>\n",
       "      <td>10339042</td>\n",
       "    </tr>\n",
       "  </tbody>\n",
       "</table>\n",
       "</div>"
      ],
      "text/plain": [
       "        acc  Complete  Single copy  Multi copy  Fragmented  Missing  \\\n",
       "0    NT1_v2      99.0         97.1         1.9         0.2      0.8   \n",
       "1   AL08_v2      98.9         97.1         1.8         0.1      1.0   \n",
       "2   AL27_v1      99.1         97.3         1.8         0.3      0.6   \n",
       "3    BOR_v1      99.1         97.1         2.0         0.2      0.7   \n",
       "4  BAM12_v2      98.8         96.6         2.2         0.2      1.0   \n",
       "\n",
       "   Number of contigs  Total length Percent gaps  Scaffold N50  Contigs N50  \n",
       "0                 43     198770000       0.002%      25754118      6628831  \n",
       "1                 21     188201232       0.001%      23770588     22641969  \n",
       "2                  8     189131157       0.000%      23938082     23938082  \n",
       "3                 10     191474027       0.000%      24760478     24760478  \n",
       "4                 34     208798158       0.001%      26142791     10339042  "
      ]
     },
     "execution_count": 2,
     "metadata": {},
     "output_type": "execute_result"
    }
   ],
   "source": [
    "busco_stats = pd.read_csv('busco_stats.tsv', sep='\\t')\n",
    "busco_stats.head()"
   ]
  },
  {
   "cell_type": "code",
   "execution_count": 25,
   "id": "3f997d08",
   "metadata": {},
   "outputs": [
    {
     "data": {
      "text/plain": [
       "<AxesSubplot: >"
      ]
     },
     "execution_count": 25,
     "metadata": {},
     "output_type": "execute_result"
    },
    {
     "data": {
      "image/png": "[encoded data removed]",
      "text/plain": [
       "<Figure size 640x480 with 1 Axes>"
      ]
     },
     "metadata": {},
     "output_type": "display_data"
    }
   ],
   "source": [
    "busco_stats.Complete.hist(grid=False, bins=10)"
   ]
  },
  {
   "cell_type": "code",
   "execution_count": 4,
   "id": "38e655e0",
   "metadata": {},
   "outputs": [
    {
     "data": {
      "text/plain": [
       "<AxesSubplot: >"
      ]
     },
     "execution_count": 4,
     "metadata": {},
     "output_type": "execute_result"
    },
    {
     "data": {
      "image/png": "[encoded data removed]",
      "text/plain": [
       "<Figure size 640x480 with 1 Axes>"
      ]
     },
     "metadata": {},
     "output_type": "display_data"
    }
   ],
   "source": [
    "busco_stats[\"Single copy\"].hist()"
   ]
  },
  {
   "cell_type": "code",
   "execution_count": 5,
   "id": "7d2f9ed1",
   "metadata": {},
   "outputs": [
    {
     "data": {
      "text/plain": [
       "<AxesSubplot: >"
      ]
     },
     "execution_count": 5,
     "metadata": {},
     "output_type": "execute_result"
    },
    {
     "data": {
      "image/png": "[encoded data removed]",
      "text/plain": [
       "<Figure size 640x480 with 1 Axes>"
      ]
     },
     "metadata": {},
     "output_type": "display_data"
    }
   ],
   "source": [
    "busco_stats[\"Multi copy\"].hist()"
   ]
  },
  {
   "cell_type": "code",
   "execution_count": 6,
   "id": "bc9f54b8",
   "metadata": {},
   "outputs": [
    {
     "data": {
      "text/plain": [
       "<AxesSubplot: >"
      ]
     },
     "execution_count": 6,
     "metadata": {},
     "output_type": "execute_result"
    },
    {
     "data": {
      "image/png": "[encoded data removed]",
      "text/plain": [
       "<Figure size 640x480 with 1 Axes>"
      ]
     },
     "metadata": {},
     "output_type": "display_data"
    }
   ],
   "source": [
    "busco_stats[\"Fragmented\"].hist()"
   ]
  },
  {
   "cell_type": "code",
   "execution_count": 7,
   "id": "41b6a875",
   "metadata": {},
   "outputs": [
    {
     "data": {
      "text/plain": [
       "<AxesSubplot: >"
      ]
     },
     "execution_count": 7,
     "metadata": {},
     "output_type": "execute_result"
    },
    {
     "data": {
      "image/png": "[encoded data removed]",
      "text/plain": [
       "<Figure size 640x480 with 1 Axes>"
      ]
     },
     "metadata": {},
     "output_type": "display_data"
    }
   ],
   "source": [
    "busco_stats[\"Missing\"].hist()"
   ]
  },
  {
   "cell_type": "code",
   "execution_count": 12,
   "id": "f1293eab",
   "metadata": {},
   "outputs": [
    {
     "data": {
      "text/plain": [
       "<AxesSubplot: >"
      ]
     },
     "execution_count": 12,
     "metadata": {},
     "output_type": "execute_result"
    },
    {
     "data": {
      "image/png": "[encoded data removed]",
      "text/plain": [
       "<Figure size 640x480 with 1 Axes>"
      ]
     },
     "metadata": {},
     "output_type": "display_data"
    }
   ],
   "source": [
    "busco_stats[\"Number of contigs\"].hist(bins=35, grid=False)"
   ]
  },
  {
   "cell_type": "code",
   "execution_count": 13,
   "id": "86b3bf51",
   "metadata": {},
   "outputs": [
    {
     "data": {
      "text/html": [
       "<div>\n",
       "<style scoped>\n",
       "    .dataframe tbody tr th:only-of-type {\n",
       "        vertical-align: middle;\n",
       "    }\n",
       "\n",
       "    .dataframe tbody tr th {\n",
       "        vertical-align: top;\n",
       "    }\n",
       "\n",
       "    .dataframe thead th {\n",
       "        text-align: right;\n",
       "    }\n",
       "</style>\n",
       "<table border=\"1\" class=\"dataframe\">\n",
       "  <thead>\n",
       "    <tr style=\"text-align: right;\">\n",
       "      <th></th>\n",
       "      <th>acc</th>\n",
       "      <th>Complete</th>\n",
       "      <th>Single copy</th>\n",
       "      <th>Multi copy</th>\n",
       "      <th>Fragmented</th>\n",
       "      <th>Missing</th>\n",
       "      <th>Number of contigs</th>\n",
       "      <th>Total length</th>\n",
       "      <th>Percent gaps</th>\n",
       "      <th>Scaffold N50</th>\n",
       "      <th>Contigs N50</th>\n",
       "    </tr>\n",
       "  </thead>\n",
       "  <tbody>\n",
       "    <tr>\n",
       "      <th>2</th>\n",
       "      <td>AL27_v1</td>\n",
       "      <td>99.1</td>\n",
       "      <td>97.3</td>\n",
       "      <td>1.8</td>\n",
       "      <td>0.3</td>\n",
       "      <td>0.6</td>\n",
       "      <td>8</td>\n",
       "      <td>189131157</td>\n",
       "      <td>0.000%</td>\n",
       "      <td>23938082</td>\n",
       "      <td>23938082</td>\n",
       "    </tr>\n",
       "    <tr>\n",
       "      <th>15</th>\n",
       "      <td>PU6_v3</td>\n",
       "      <td>97.4</td>\n",
       "      <td>95.2</td>\n",
       "      <td>2.2</td>\n",
       "      <td>0.3</td>\n",
       "      <td>2.3</td>\n",
       "      <td>8</td>\n",
       "      <td>211275725</td>\n",
       "      <td>0.000%</td>\n",
       "      <td>25975380</td>\n",
       "      <td>25975380</td>\n",
       "    </tr>\n",
       "  </tbody>\n",
       "</table>\n",
       "</div>"
      ],
      "text/plain": [
       "        acc  Complete  Single copy  Multi copy  Fragmented  Missing  \\\n",
       "2   AL27_v1      99.1         97.3         1.8         0.3      0.6   \n",
       "15   PU6_v3      97.4         95.2         2.2         0.3      2.3   \n",
       "\n",
       "    Number of contigs  Total length Percent gaps  Scaffold N50  Contigs N50  \n",
       "2                   8     189131157       0.000%      23938082     23938082  \n",
       "15                  8     211275725       0.000%      25975380     25975380  "
      ]
     },
     "execution_count": 13,
     "metadata": {},
     "output_type": "execute_result"
    }
   ],
   "source": [
    "busco_stats[busco_stats[\"Number of contigs\"] == 8]"
   ]
  },
  {
   "cell_type": "code",
   "execution_count": 14,
   "id": "1fc6dcb9",
   "metadata": {},
   "outputs": [
    {
     "data": {
      "text/html": [
       "<div>\n",
       "<style scoped>\n",
       "    .dataframe tbody tr th:only-of-type {\n",
       "        vertical-align: middle;\n",
       "    }\n",
       "\n",
       "    .dataframe tbody tr th {\n",
       "        vertical-align: top;\n",
       "    }\n",
       "\n",
       "    .dataframe thead th {\n",
       "        text-align: right;\n",
       "    }\n",
       "</style>\n",
       "<table border=\"1\" class=\"dataframe\">\n",
       "  <thead>\n",
       "    <tr style=\"text-align: right;\">\n",
       "      <th></th>\n",
       "      <th>acc</th>\n",
       "      <th>Complete</th>\n",
       "      <th>Single copy</th>\n",
       "      <th>Multi copy</th>\n",
       "      <th>Fragmented</th>\n",
       "      <th>Missing</th>\n",
       "      <th>Number of contigs</th>\n",
       "      <th>Total length</th>\n",
       "      <th>Percent gaps</th>\n",
       "      <th>Scaffold N50</th>\n",
       "      <th>Contigs N50</th>\n",
       "    </tr>\n",
       "  </thead>\n",
       "  <tbody>\n",
       "    <tr>\n",
       "      <th>0</th>\n",
       "      <td>NT1_v2</td>\n",
       "      <td>99.0</td>\n",
       "      <td>97.1</td>\n",
       "      <td>1.9</td>\n",
       "      <td>0.2</td>\n",
       "      <td>0.8</td>\n",
       "      <td>43</td>\n",
       "      <td>198770000</td>\n",
       "      <td>0.002%</td>\n",
       "      <td>25754118</td>\n",
       "      <td>6628831</td>\n",
       "    </tr>\n",
       "    <tr>\n",
       "      <th>4</th>\n",
       "      <td>BAM12_v2</td>\n",
       "      <td>98.8</td>\n",
       "      <td>96.6</td>\n",
       "      <td>2.2</td>\n",
       "      <td>0.2</td>\n",
       "      <td>1.0</td>\n",
       "      <td>34</td>\n",
       "      <td>208798158</td>\n",
       "      <td>0.001%</td>\n",
       "      <td>26142791</td>\n",
       "      <td>10339042</td>\n",
       "    </tr>\n",
       "  </tbody>\n",
       "</table>\n",
       "</div>"
      ],
      "text/plain": [
       "        acc  Complete  Single copy  Multi copy  Fragmented  Missing  \\\n",
       "0    NT1_v2      99.0         97.1         1.9         0.2      0.8   \n",
       "4  BAM12_v2      98.8         96.6         2.2         0.2      1.0   \n",
       "\n",
       "   Number of contigs  Total length Percent gaps  Scaffold N50  Contigs N50  \n",
       "0                 43     198770000       0.002%      25754118      6628831  \n",
       "4                 34     208798158       0.001%      26142791     10339042  "
      ]
     },
     "execution_count": 14,
     "metadata": {},
     "output_type": "execute_result"
    }
   ],
   "source": [
    "busco_stats[busco_stats[\"Number of contigs\"] > 30]"
   ]
  },
  {
   "cell_type": "code",
   "execution_count": 22,
   "id": "e2c9f2fe",
   "metadata": {},
   "outputs": [
    {
     "data": {
      "text/plain": [
       "<AxesSubplot: >"
      ]
     },
     "execution_count": 22,
     "metadata": {},
     "output_type": "execute_result"
    },
    {
     "data": {
      "image/png": "[encoded data removed]",
      "text/plain": [
       "<Figure size 640x480 with 1 Axes>"
      ]
     },
     "metadata": {},
     "output_type": "display_data"
    }
   ],
   "source": [
    "busco_stats[\"Contigs N50\"].hist(grid=False, bins=20)"
   ]
  },
  {
   "cell_type": "code",
   "execution_count": 20,
   "id": "2cf6b758",
   "metadata": {},
   "outputs": [
    {
     "data": {
      "text/plain": [
       "array([[<AxesSubplot: title={'center': 'Contigs N50'}>,\n",
       "        <AxesSubplot: title={'center': 'Scaffold N50'}>]], dtype=object)"
      ]
     },
     "execution_count": 20,
     "metadata": {},
     "output_type": "execute_result"
    },
    {
     "data": {
      "image/png": "[encoded data removed]",
      "text/plain": [
       "<Figure size 640x480 with 2 Axes>"
      ]
     },
     "metadata": {},
     "output_type": "display_data"
    }
   ],
   "source": [
    "busco_stats.loc[:, [\"Contigs N50\", \"Scaffold N50\"]].hist(grid=False, bins=20)"
   ]
  },
  {
   "cell_type": "code",
   "execution_count": 21,
   "id": "e34120c0",
   "metadata": {},
   "outputs": [
    {
     "data": {
      "text/html": [
       "<div>\n",
       "<style scoped>\n",
       "    .dataframe tbody tr th:only-of-type {\n",
       "        vertical-align: middle;\n",
       "    }\n",
       "\n",
       "    .dataframe tbody tr th {\n",
       "        vertical-align: top;\n",
       "    }\n",
       "\n",
       "    .dataframe thead th {\n",
       "        text-align: right;\n",
       "    }\n",
       "</style>\n",
       "<table border=\"1\" class=\"dataframe\">\n",
       "  <thead>\n",
       "    <tr style=\"text-align: right;\">\n",
       "      <th></th>\n",
       "      <th>acc</th>\n",
       "      <th>Complete</th>\n",
       "      <th>Single copy</th>\n",
       "      <th>Multi copy</th>\n",
       "      <th>Fragmented</th>\n",
       "      <th>Missing</th>\n",
       "      <th>Number of contigs</th>\n",
       "      <th>Total length</th>\n",
       "      <th>Percent gaps</th>\n",
       "      <th>Scaffold N50</th>\n",
       "      <th>Contigs N50</th>\n",
       "    </tr>\n",
       "  </thead>\n",
       "  <tbody>\n",
       "    <tr>\n",
       "      <th>0</th>\n",
       "      <td>NT1_v2</td>\n",
       "      <td>99.0</td>\n",
       "      <td>97.1</td>\n",
       "      <td>1.9</td>\n",
       "      <td>0.2</td>\n",
       "      <td>0.8</td>\n",
       "      <td>43</td>\n",
       "      <td>198770000</td>\n",
       "      <td>0.002%</td>\n",
       "      <td>25754118</td>\n",
       "      <td>6628831</td>\n",
       "    </tr>\n",
       "    <tr>\n",
       "      <th>1</th>\n",
       "      <td>AL08_v2</td>\n",
       "      <td>98.9</td>\n",
       "      <td>97.1</td>\n",
       "      <td>1.8</td>\n",
       "      <td>0.1</td>\n",
       "      <td>1.0</td>\n",
       "      <td>21</td>\n",
       "      <td>188201232</td>\n",
       "      <td>0.001%</td>\n",
       "      <td>23770588</td>\n",
       "      <td>22641969</td>\n",
       "    </tr>\n",
       "    <tr>\n",
       "      <th>2</th>\n",
       "      <td>AL27_v1</td>\n",
       "      <td>99.1</td>\n",
       "      <td>97.3</td>\n",
       "      <td>1.8</td>\n",
       "      <td>0.3</td>\n",
       "      <td>0.6</td>\n",
       "      <td>8</td>\n",
       "      <td>189131157</td>\n",
       "      <td>0.000%</td>\n",
       "      <td>23938082</td>\n",
       "      <td>23938082</td>\n",
       "    </tr>\n",
       "    <tr>\n",
       "      <th>3</th>\n",
       "      <td>BOR_v1</td>\n",
       "      <td>99.1</td>\n",
       "      <td>97.1</td>\n",
       "      <td>2.0</td>\n",
       "      <td>0.2</td>\n",
       "      <td>0.7</td>\n",
       "      <td>10</td>\n",
       "      <td>191474027</td>\n",
       "      <td>0.000%</td>\n",
       "      <td>24760478</td>\n",
       "      <td>24760478</td>\n",
       "    </tr>\n",
       "    <tr>\n",
       "      <th>4</th>\n",
       "      <td>BAM12_v2</td>\n",
       "      <td>98.8</td>\n",
       "      <td>96.6</td>\n",
       "      <td>2.2</td>\n",
       "      <td>0.2</td>\n",
       "      <td>1.0</td>\n",
       "      <td>34</td>\n",
       "      <td>208798158</td>\n",
       "      <td>0.001%</td>\n",
       "      <td>26142791</td>\n",
       "      <td>10339042</td>\n",
       "    </tr>\n",
       "    <tr>\n",
       "      <th>5</th>\n",
       "      <td>Ceb_c_v1</td>\n",
       "      <td>98.7</td>\n",
       "      <td>96.4</td>\n",
       "      <td>2.3</td>\n",
       "      <td>0.3</td>\n",
       "      <td>1.0</td>\n",
       "      <td>20</td>\n",
       "      <td>254594384</td>\n",
       "      <td>0.000%</td>\n",
       "      <td>32409022</td>\n",
       "      <td>27225057</td>\n",
       "    </tr>\n",
       "    <tr>\n",
       "      <th>6</th>\n",
       "      <td>Ceb_d_v2</td>\n",
       "      <td>98.6</td>\n",
       "      <td>96.2</td>\n",
       "      <td>2.4</td>\n",
       "      <td>0.3</td>\n",
       "      <td>1.1</td>\n",
       "      <td>22</td>\n",
       "      <td>260130531</td>\n",
       "      <td>0.001%</td>\n",
       "      <td>33900860</td>\n",
       "      <td>21408211</td>\n",
       "    </tr>\n",
       "    <tr>\n",
       "      <th>7</th>\n",
       "      <td>Ped_v2</td>\n",
       "      <td>97.7</td>\n",
       "      <td>95.5</td>\n",
       "      <td>2.2</td>\n",
       "      <td>0.3</td>\n",
       "      <td>2.0</td>\n",
       "      <td>18</td>\n",
       "      <td>240109414</td>\n",
       "      <td>0.000%</td>\n",
       "      <td>30272806</td>\n",
       "      <td>21763689</td>\n",
       "    </tr>\n",
       "    <tr>\n",
       "      <th>8</th>\n",
       "      <td>PTP_v0</td>\n",
       "      <td>99.2</td>\n",
       "      <td>97.4</td>\n",
       "      <td>1.8</td>\n",
       "      <td>0.1</td>\n",
       "      <td>0.7</td>\n",
       "      <td>18</td>\n",
       "      <td>197866433</td>\n",
       "      <td>0.001%</td>\n",
       "      <td>25205497</td>\n",
       "      <td>21568125</td>\n",
       "    </tr>\n",
       "    <tr>\n",
       "      <th>9</th>\n",
       "      <td>LPT_v1</td>\n",
       "      <td>99.1</td>\n",
       "      <td>97.3</td>\n",
       "      <td>1.8</td>\n",
       "      <td>0.2</td>\n",
       "      <td>0.7</td>\n",
       "      <td>10</td>\n",
       "      <td>194812019</td>\n",
       "      <td>0.000%</td>\n",
       "      <td>24555117</td>\n",
       "      <td>23162639</td>\n",
       "    </tr>\n",
       "    <tr>\n",
       "      <th>10</th>\n",
       "      <td>TSS_v1</td>\n",
       "      <td>98.9</td>\n",
       "      <td>96.9</td>\n",
       "      <td>2.0</td>\n",
       "      <td>0.1</td>\n",
       "      <td>1.0</td>\n",
       "      <td>28</td>\n",
       "      <td>206016960</td>\n",
       "      <td>0.001%</td>\n",
       "      <td>24651755</td>\n",
       "      <td>16106502</td>\n",
       "    </tr>\n",
       "    <tr>\n",
       "      <th>11</th>\n",
       "      <td>MN47_v4</td>\n",
       "      <td>99.0</td>\n",
       "      <td>97.2</td>\n",
       "      <td>1.8</td>\n",
       "      <td>0.1</td>\n",
       "      <td>0.9</td>\n",
       "      <td>11</td>\n",
       "      <td>205974869</td>\n",
       "      <td>0.000%</td>\n",
       "      <td>25209093</td>\n",
       "      <td>23441714</td>\n",
       "    </tr>\n",
       "    <tr>\n",
       "      <th>12</th>\n",
       "      <td>NT12_v2</td>\n",
       "      <td>99.2</td>\n",
       "      <td>96.9</td>\n",
       "      <td>2.3</td>\n",
       "      <td>0.1</td>\n",
       "      <td>0.7</td>\n",
       "      <td>26</td>\n",
       "      <td>214002386</td>\n",
       "      <td>0.001%</td>\n",
       "      <td>26574750</td>\n",
       "      <td>11384005</td>\n",
       "    </tr>\n",
       "    <tr>\n",
       "      <th>13</th>\n",
       "      <td>NT8_v2</td>\n",
       "      <td>99.2</td>\n",
       "      <td>96.9</td>\n",
       "      <td>2.3</td>\n",
       "      <td>0.1</td>\n",
       "      <td>0.7</td>\n",
       "      <td>19</td>\n",
       "      <td>212115726</td>\n",
       "      <td>0.001%</td>\n",
       "      <td>26965654</td>\n",
       "      <td>15688886</td>\n",
       "    </tr>\n",
       "    <tr>\n",
       "      <th>14</th>\n",
       "      <td>NT9_v2</td>\n",
       "      <td>99.2</td>\n",
       "      <td>97.1</td>\n",
       "      <td>2.1</td>\n",
       "      <td>0.0</td>\n",
       "      <td>0.8</td>\n",
       "      <td>22</td>\n",
       "      <td>212511195</td>\n",
       "      <td>0.001%</td>\n",
       "      <td>26772498</td>\n",
       "      <td>25704233</td>\n",
       "    </tr>\n",
       "    <tr>\n",
       "      <th>15</th>\n",
       "      <td>PU6_v3</td>\n",
       "      <td>97.4</td>\n",
       "      <td>95.2</td>\n",
       "      <td>2.2</td>\n",
       "      <td>0.3</td>\n",
       "      <td>2.3</td>\n",
       "      <td>8</td>\n",
       "      <td>211275725</td>\n",
       "      <td>0.000%</td>\n",
       "      <td>25975380</td>\n",
       "      <td>25975380</td>\n",
       "    </tr>\n",
       "    <tr>\n",
       "      <th>16</th>\n",
       "      <td>TE8_v1</td>\n",
       "      <td>99.1</td>\n",
       "      <td>97.0</td>\n",
       "      <td>2.1</td>\n",
       "      <td>0.2</td>\n",
       "      <td>0.7</td>\n",
       "      <td>11</td>\n",
       "      <td>210562927</td>\n",
       "      <td>0.000%</td>\n",
       "      <td>26335035</td>\n",
       "      <td>24591694</td>\n",
       "    </tr>\n",
       "    <tr>\n",
       "      <th>17</th>\n",
       "      <td>TE4_v1</td>\n",
       "      <td>99.1</td>\n",
       "      <td>97.1</td>\n",
       "      <td>2.0</td>\n",
       "      <td>0.2</td>\n",
       "      <td>0.7</td>\n",
       "      <td>12</td>\n",
       "      <td>211662212</td>\n",
       "      <td>0.000%</td>\n",
       "      <td>26133048</td>\n",
       "      <td>24559619</td>\n",
       "    </tr>\n",
       "    <tr>\n",
       "      <th>18</th>\n",
       "      <td>TE11_v2</td>\n",
       "      <td>98.9</td>\n",
       "      <td>96.7</td>\n",
       "      <td>2.2</td>\n",
       "      <td>0.2</td>\n",
       "      <td>0.9</td>\n",
       "      <td>19</td>\n",
       "      <td>208984119</td>\n",
       "      <td>0.001%</td>\n",
       "      <td>26501351</td>\n",
       "      <td>14432256</td>\n",
       "    </tr>\n",
       "    <tr>\n",
       "      <th>19</th>\n",
       "      <td>al1_v2</td>\n",
       "      <td>98.3</td>\n",
       "      <td>96.0</td>\n",
       "      <td>2.3</td>\n",
       "      <td>0.3</td>\n",
       "      <td>1.4</td>\n",
       "      <td>24</td>\n",
       "      <td>209641546</td>\n",
       "      <td>0.001%</td>\n",
       "      <td>25355420</td>\n",
       "      <td>13478892</td>\n",
       "    </tr>\n",
       "    <tr>\n",
       "      <th>20</th>\n",
       "      <td>WS1_v2</td>\n",
       "      <td>97.6</td>\n",
       "      <td>95.6</td>\n",
       "      <td>2.0</td>\n",
       "      <td>0.3</td>\n",
       "      <td>2.1</td>\n",
       "      <td>19</td>\n",
       "      <td>203998102</td>\n",
       "      <td>0.001%</td>\n",
       "      <td>25474938</td>\n",
       "      <td>12467608</td>\n",
       "    </tr>\n",
       "  </tbody>\n",
       "</table>\n",
       "</div>"
      ],
      "text/plain": [
       "         acc  Complete  Single copy  Multi copy  Fragmented  Missing  \\\n",
       "0     NT1_v2      99.0         97.1         1.9         0.2      0.8   \n",
       "1    AL08_v2      98.9         97.1         1.8         0.1      1.0   \n",
       "2    AL27_v1      99.1         97.3         1.8         0.3      0.6   \n",
       "3     BOR_v1      99.1         97.1         2.0         0.2      0.7   \n",
       "4   BAM12_v2      98.8         96.6         2.2         0.2      1.0   \n",
       "5   Ceb_c_v1      98.7         96.4         2.3         0.3      1.0   \n",
       "6   Ceb_d_v2      98.6         96.2         2.4         0.3      1.1   \n",
       "7     Ped_v2      97.7         95.5         2.2         0.3      2.0   \n",
       "8     PTP_v0      99.2         97.4         1.8         0.1      0.7   \n",
       "9     LPT_v1      99.1         97.3         1.8         0.2      0.7   \n",
       "10    TSS_v1      98.9         96.9         2.0         0.1      1.0   \n",
       "11   MN47_v4      99.0         97.2         1.8         0.1      0.9   \n",
       "12   NT12_v2      99.2         96.9         2.3         0.1      0.7   \n",
       "13    NT8_v2      99.2         96.9         2.3         0.1      0.7   \n",
       "14    NT9_v2      99.2         97.1         2.1         0.0      0.8   \n",
       "15    PU6_v3      97.4         95.2         2.2         0.3      2.3   \n",
       "16    TE8_v1      99.1         97.0         2.1         0.2      0.7   \n",
       "17    TE4_v1      99.1         97.1         2.0         0.2      0.7   \n",
       "18   TE11_v2      98.9         96.7         2.2         0.2      0.9   \n",
       "19    al1_v2      98.3         96.0         2.3         0.3      1.4   \n",
       "20    WS1_v2      97.6         95.6         2.0         0.3      2.1   \n",
       "\n",
       "    Number of contigs  Total length Percent gaps  Scaffold N50  Contigs N50  \n",
       "0                  43     198770000       0.002%      25754118      6628831  \n",
       "1                  21     188201232       0.001%      23770588     22641969  \n",
       "2                   8     189131157       0.000%      23938082     23938082  \n",
       "3                  10     191474027       0.000%      24760478     24760478  \n",
       "4                  34     208798158       0.001%      26142791     10339042  \n",
       "5                  20     254594384       0.000%      32409022     27225057  \n",
       "6                  22     260130531       0.001%      33900860     21408211  \n",
       "7                  18     240109414       0.000%      30272806     21763689  \n",
       "8                  18     197866433       0.001%      25205497     21568125  \n",
       "9                  10     194812019       0.000%      24555117     23162639  \n",
       "10                 28     206016960       0.001%      24651755     16106502  \n",
       "11                 11     205974869       0.000%      25209093     23441714  \n",
       "12                 26     214002386       0.001%      26574750     11384005  \n",
       "13                 19     212115726       0.001%      26965654     15688886  \n",
       "14                 22     212511195       0.001%      26772498     25704233  \n",
       "15                  8     211275725       0.000%      25975380     25975380  \n",
       "16                 11     210562927       0.000%      26335035     24591694  \n",
       "17                 12     211662212       0.000%      26133048     24559619  \n",
       "18                 19     208984119       0.001%      26501351     14432256  \n",
       "19                 24     209641546       0.001%      25355420     13478892  \n",
       "20                 19     203998102       0.001%      25474938     12467608  "
      ]
     },
     "execution_count": 21,
     "metadata": {},
     "output_type": "execute_result"
    }
   ],
   "source": [
    "busco_stats"
   ]
  },
  {
   "cell_type": "code",
   "execution_count": null,
   "id": "9112f241",
   "metadata": {},
   "outputs": [],
   "source": []
  }
 ],
 "metadata": {
  "kernelspec": {
   "display_name": "Python 3 (ipykernel)",
   "language": "python",
   "name": "python3"
  },
  "language_info": {
   "codemirror_mode": {
    "name": "ipython",
    "version": 3
   },
   "file_extension": ".py",
   "mimetype": "text/x-python",
   "name": "python",
   "nbconvert_exporter": "python",
   "pygments_lexer": "ipython3",
   "version": "3.10.6"
  }
 },
 "nbformat": 4,
 "nbformat_minor": 5
}
