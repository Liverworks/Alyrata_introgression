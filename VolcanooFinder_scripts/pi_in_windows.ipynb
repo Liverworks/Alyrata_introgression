{
 "cells": [
  {
   "cell_type": "code",
   "execution_count": null,
   "id": "d7aecf12",
   "metadata": {},
   "outputs": [],
   "source": [
    "mport os.path\n",
    "import gzip\n",
    "import re\n",
    "import sys\n",
    "import pandas as pd\n",
    "import seaborn as sns\n",
    "\n",
    "arg = \"Naquilonius.snps.vcf.gz\"\n",
    "chrom = \"Scaffold_17238\\t\"\n",
    "pibets = {}\n",
    "with gzip.open(arg, 'rt') as infile:\n",
    "    for line in infile:\n",
    "        if line.startswith(chrom) == False: # passing comments\n",
    "            continue\n",
    "        else:\n",
    "            #print(line)\n",
    "            line = line.strip().split() \n",
    "            samples = line[9:-1]\n",
    "            var_al = 0\n",
    "            all_al = 0\n",
    "            gen = []\n",
    "            for sample in samples:\n",
    "                gen = gen + sample.split(\":\")[0].split(\"/\")\n",
    "                #print(gen)\n",
    "            if set(gen) != {\".\"}:\n",
    "                for variation in gen:\n",
    "                    if variation == '0':\n",
    "                        var_al += 1\n",
    "                    elif variation == '1':\n",
    "                        all_al += 1\n",
    "                        #pibeta[i][0] += 1\n",
    "                #print(var_al, all_al)\n",
    "                pibets[int(line[1])] = all_al/(var_al+all_al)\n",
    "                # print(pibeta)\n",
    "#print(pibets)\n",
    "pib = pd.DataFrame.from_dict(pibets, orient='index', columns=['pi'])\n",
    "pib.to_csv(\"Naquilonius_pi_17238chr.tsv\", sep='\\t')\n",
    "pibets = {}\n",
    "arg = \"Naquilonius.ref.vcf.gz\"\n",
    "chrom = \"Scaffold_17238\\t\"\n",
    "n = 0\n",
    "with gzip.open(arg, 'rt') as infile:\n",
    "    for line in infile:\n",
    "        if line.startswith(chrom) == False: # passing comments\n",
    "            continue\n",
    "        else:\n",
    "            n += 1\n",
    "            line = line.strip().split()\n",
    "            pibets[int(line[1])] = 0\n",
    "            if n > 1000000:\n",
    "                pib = pd.DataFrame.from_dict(pibets, orient='index', columns=['pi'])\n",
    "                pib.to_csv(\"Naquilonius_pi_17238chr.tsv\", sep='\\t', mode='a')\n",
    "                pibets = {}\n",
    "                n = 0\n",
    "                \n",
    "\n",
    "pib = pd.DataFrame.from_dict(pibets, orient='index', columns=['pi'])\n",
    "pib.to_csv(\"Naquilonius_pi_17238chr.tsv\", sep='\\t', mode='a')\n",
    "pib.head()"
   ]
  },
  {
   "cell_type": "code",
   "execution_count": null,
   "id": "7589c1b2",
   "metadata": {},
   "outputs": [],
   "source": [
    "pib = pd.DataFrame.from_dict(pibets, orient='index', columns=['pi'])\n",
    "pib.to_csv(\"Naquilonius_pi_17238chr.tsv\", sep='\\t')\n",
    "print(pib.head())\n",
    "pib = pib.sort_index()"
   ]
  },
  {
   "cell_type": "code",
   "execution_count": null,
   "id": "bb29ed45",
   "metadata": {},
   "outputs": [],
   "source": [
    "pib[\"smooth\"] = pib.pi.rolling(window=1000, min_periods=1).sum()"
   ]
  },
  {
   "cell_type": "code",
   "execution_count": null,
   "id": "cd369598",
   "metadata": {},
   "outputs": [],
   "source": [
    "sns.lineplot(data=pib.smooth[(pib.index > 22616892) & (pib.index < 22622892)])\n",
    "sns.scatterplot(x=[22619392], y=[0])"
   ]
  }
 ],
 "metadata": {
  "kernelspec": {
   "display_name": "Python 3 (ipykernel)",
   "language": "python",
   "name": "python3"
  },
  "language_info": {
   "codemirror_mode": {
    "name": "ipython",
    "version": 3
   },
   "file_extension": ".py",
   "mimetype": "text/x-python",
   "name": "python",
   "nbconvert_exporter": "python",
   "pygments_lexer": "ipython3",
   "version": "3.10.6"
  }
 },
 "nbformat": 4,
 "nbformat_minor": 5
}
